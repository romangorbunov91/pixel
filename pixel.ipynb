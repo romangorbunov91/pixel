{
 "cells": [
  {
   "cell_type": "code",
   "execution_count": 1,
   "id": "a1ee93fb",
   "metadata": {},
   "outputs": [],
   "source": [
    "import numpy as np"
   ]
  },
  {
   "cell_type": "markdown",
   "id": "88e3377a",
   "metadata": {},
   "source": [
    "Координаты пикселя.\n",
    "\n",
    "|         | **m=1**  | **m=2**  |\n",
    "|---------|----------|----------|\n",
    "| **n=2** | m=1, n=2 | m=2, n=2 |\n",
    "| **n=1** | m=1, n=1 | m=2, n=1 |"
   ]
  },
  {
   "cell_type": "code",
   "execution_count": 2,
   "id": "39c38121",
   "metadata": {},
   "outputs": [],
   "source": [
    "m = 2 # > 0\n",
    "n = 1 # > 0\n",
    "tensor_type = 'WW' # 'VV', 'VW', 'WW', 'WV'\n",
    "lvl = 2"
   ]
  },
  {
   "cell_type": "markdown",
   "id": "e3be9857",
   "metadata": {},
   "source": [
    "Создаем масштабирующие вектора."
   ]
  },
  {
   "cell_type": "code",
   "execution_count": 3,
   "id": "80c84d13",
   "metadata": {},
   "outputs": [],
   "source": [
    "N = 8\n",
    "K = 2\n",
    "V = np.empty(K, dtype='object')\n",
    "W = np.empty(K, dtype='object')\n",
    "for k in range(K):\n",
    "    V[k] = np.zeros((int(N/2**(k+1)),N))\n",
    "    W[k] = np.zeros((int(N/2**(k+1)),N))\n",
    "\n",
    "\n",
    "V[0][0] = [1/np.sqrt(2), 1/np.sqrt(2), 0, 0, 0, 0, 0, 0]\n",
    "V[0][1] = [0, 0, 1/np.sqrt(2), 1/np.sqrt(2), 0, 0, 0, 0]\n",
    "V[0][2] = [0, 0, 0, 0, 1/np.sqrt(2), 1/np.sqrt(2), 0, 0]\n",
    "V[0][3] = [0, 0, 0, 0, 0, 0, 1/np.sqrt(2), 1/np.sqrt(2)]\n",
    "\n",
    "W[0][0] = [1/np.sqrt(2), -1/np.sqrt(2), 0, 0, 0, 0, 0, 0]\n",
    "W[0][1] = [0, 0, 1/np.sqrt(2), -1/np.sqrt(2), 0, 0, 0, 0]\n",
    "W[0][2] = [0, 0, 0, 0, 1/np.sqrt(2), -1/np.sqrt(2), 0, 0]\n",
    "W[0][3] = [0, 0, 0, 0, 0, 0, 1/np.sqrt(2), -1/np.sqrt(2)]\n",
    "\n",
    "V[1][0] = [1/2, 1/2, 1/2, 1/2, 0, 0, 0, 0]\n",
    "V[1][1] = [0, 0, 0, 0, 1/2, 1/2, 1/2, 1/2]\n",
    "\n",
    "W[1][0] = [1/2, 1/2, -1/2, -1/2, 0, 0, 0, 0]\n",
    "W[1][1] = [0, 0, 0, 0, 1/2, 1/2, -1/2, -1/2]\n",
    "\n",
    "for k in range(K):\n",
    "    V[k] = np.matrix(V[k])\n",
    "    W[k] = np.matrix(W[k])"
   ]
  },
  {
   "cell_type": "markdown",
   "id": "453bc056",
   "metadata": {},
   "source": [
    "# Тензорное произведение"
   ]
  },
  {
   "cell_type": "markdown",
   "id": "adb58f8b",
   "metadata": {},
   "source": [
    "Матрицы преобразования 1-го уровня для N и N/2:"
   ]
  },
  {
   "cell_type": "code",
   "execution_count": 4,
   "id": "99f7801c",
   "metadata": {},
   "outputs": [],
   "source": [
    "Mdir = np.empty(K, dtype='object')\n",
    "for k in range(K):\n",
    "    Mdir[k] = np.concatenate((V[0][:(N//2**(k+1)),:(N//2**k)], W[0][:(N//2**(k+1)),:(N//2**k)]), axis = 0)"
   ]
  },
  {
   "cell_type": "code",
   "execution_count": 5,
   "id": "5c45dc21",
   "metadata": {},
   "outputs": [],
   "source": [
    "if tensor_type == 'WW':\n",
    "    tensor_mtrx = np.transpose(np.flip(W[lvl-1][n-1])) * W[lvl-1][m-1]\n",
    "elif tensor_type == 'VV':\n",
    "    tensor_mtrx = np.transpose(np.flip(V[lvl-1][n-1])) * V[lvl-1][m-1]\n",
    "elif tensor_type == 'VW':\n",
    "    tensor_mtrx = np.transpose(np.flip(W[lvl-1][n-1])) * V[lvl-1][m-1]\n",
    "elif tensor_type == 'WV':\n",
    "    tensor_mtrx = np.transpose(np.flip(V[lvl-1][n-1])) * W[lvl-1][m-1]\n",
    "else:\n",
    "    print('Error: tensor_type is not correct')"
   ]
  },
  {
   "cell_type": "markdown",
   "id": "a98cca16",
   "metadata": {},
   "source": [
    "Результирующая субматрица располагается в углу, координаты которого задаются параметрами **m**, **n**.\n",
    "\n",
    "Параметр tensor_type ('VV', 'VW', 'WW', 'WV') определяет наполнение этой субматрицы."
   ]
  },
  {
   "cell_type": "code",
   "execution_count": 6,
   "id": "2ce6ad35",
   "metadata": {},
   "outputs": [
    {
     "data": {
      "text/plain": [
       "matrix([[ 0.  ,  0.  ,  0.  ,  0.  ,  0.  ,  0.  ,  0.  ,  0.  ],\n",
       "        [ 0.  ,  0.  ,  0.  ,  0.  ,  0.  ,  0.  ,  0.  ,  0.  ],\n",
       "        [ 0.  ,  0.  ,  0.  ,  0.  ,  0.  ,  0.  ,  0.  ,  0.  ],\n",
       "        [ 0.  ,  0.  ,  0.  ,  0.  ,  0.  ,  0.  ,  0.  ,  0.  ],\n",
       "        [ 0.  ,  0.  ,  0.  ,  0.  , -0.25, -0.25,  0.25,  0.25],\n",
       "        [ 0.  ,  0.  ,  0.  ,  0.  , -0.25, -0.25,  0.25,  0.25],\n",
       "        [ 0.  ,  0.  ,  0.  ,  0.  ,  0.25,  0.25, -0.25, -0.25],\n",
       "        [ 0.  ,  0.  ,  0.  ,  0.  ,  0.25,  0.25, -0.25, -0.25]])"
      ]
     },
     "execution_count": 6,
     "metadata": {},
     "output_type": "execute_result"
    }
   ],
   "source": [
    "tensor_mtrx"
   ]
  },
  {
   "cell_type": "markdown",
   "id": "a06e00d9",
   "metadata": {},
   "source": [
    "Вариант с рандомной матрицей для обобщенного тестирования этого блокнота:"
   ]
  },
  {
   "cell_type": "code",
   "execution_count": 7,
   "id": "9296c59b",
   "metadata": {},
   "outputs": [
    {
     "data": {
      "text/plain": [
       "'\\nnp.random.seed(42)\\ntensor_mtrx = np.random.randint(-9, 9, size=(N, N))\\nprint(np.round(tensor_mtrx,1))\\n'"
      ]
     },
     "execution_count": 7,
     "metadata": {},
     "output_type": "execute_result"
    }
   ],
   "source": [
    "'''\n",
    "np.random.seed(42)\n",
    "tensor_mtrx = np.random.randint(-9, 9, size=(N, N))\n",
    "print(np.round(tensor_mtrx,1))\n",
    "'''"
   ]
  },
  {
   "cell_type": "markdown",
   "id": "a27be9f3",
   "metadata": {},
   "source": [
    "# Прямое преобразование"
   ]
  },
  {
   "cell_type": "markdown",
   "id": "2412ab65",
   "metadata": {},
   "source": [
    "## Преобразование 1-го уровня"
   ]
  },
  {
   "cell_type": "code",
   "execution_count": 8,
   "id": "d61756e4",
   "metadata": {},
   "outputs": [],
   "source": [
    "tr = np.empty(K, dtype='object')"
   ]
  },
  {
   "cell_type": "markdown",
   "id": "5ae797ae",
   "metadata": {},
   "source": [
    "Преобразование выполняется в следующей последовательности:\n",
    "\n",
    "1. Преобразование строк.\n",
    "2. Изменение порядка строк (bottom-up).\n",
    "3. Преобразование столбцов.\n",
    "4. Изменение порядка строк (bottom-up)."
   ]
  },
  {
   "cell_type": "code",
   "execution_count": 9,
   "id": "4e67e134",
   "metadata": {},
   "outputs": [],
   "source": [
    "tr[0] = np.flipud(Mdir[0] * np.flipud(tensor_mtrx * np.transpose(Mdir[0])))"
   ]
  },
  {
   "cell_type": "markdown",
   "id": "8310dd6b",
   "metadata": {},
   "source": [
    "В результате в левом нижнем углу формируется субматрица размера N/2xN/2. В этой субматрице ненулевыми являются только 4 значения (массив 2x2), расположение которого в рамках субматрицы определяется только параметрами **m**, **n**."
   ]
  },
  {
   "cell_type": "code",
   "execution_count": 10,
   "id": "8b7fcf34",
   "metadata": {},
   "outputs": [
    {
     "name": "stdout",
     "output_type": "stream",
     "text": [
      "[[ 0.   0.   0.   0.   0.   0.   0.   0. ]\n",
      " [ 0.   0.   0.   0.   0.   0.   0.   0. ]\n",
      " [ 0.   0.   0.  -0.   0.   0.   0.   0. ]\n",
      " [ 0.   0.  -0.   0.   0.   0.   0.   0. ]\n",
      " [ 0.   0.   0.   0.   0.   0.   0.   0. ]\n",
      " [ 0.   0.   0.   0.   0.   0.   0.   0. ]\n",
      " [ 0.   0.  -0.5  0.5  0.   0.   0.   0. ]\n",
      " [ 0.   0.   0.5 -0.5  0.   0.   0.   0. ]]\n"
     ]
    }
   ],
   "source": [
    "print(np.round(tr[0],1))"
   ]
  },
  {
   "cell_type": "markdown",
   "id": "41b4c70b",
   "metadata": {},
   "source": [
    "## Преобразование 2-го уровня"
   ]
  },
  {
   "cell_type": "markdown",
   "id": "6922211c",
   "metadata": {},
   "source": [
    "Преобразуется исключительно левый нижний угол матрицы преобразования 1-го уровня."
   ]
  },
  {
   "cell_type": "code",
   "execution_count": 11,
   "id": "545c2640",
   "metadata": {},
   "outputs": [
    {
     "name": "stdout",
     "output_type": "stream",
     "text": [
      "[[0. 0. 0. 0.]\n",
      " [0. 0. 0. 1.]\n",
      " [0. 0. 0. 0.]\n",
      " [0. 0. 0. 0.]]\n"
     ]
    }
   ],
   "source": [
    "tr[1] = np.flipud(Mdir[1] * np.flipud(tr[0][N//2:,:N//2] * np.transpose(Mdir[1])))\n",
    "print(np.round(tr[1],1))"
   ]
  },
  {
   "cell_type": "markdown",
   "id": "86ee92e3",
   "metadata": {},
   "source": [
    "В результате формируется матрица размера N/2xN/2.\n",
    "\n",
    "Только один элемент матрицы принимает ненулевой значение. Координаты этого элемента определяются следующими параметрами:\n",
    "\n",
    "1. Параметр **tensor_type** локализует \"угол\" матрицы.\n",
    "\n",
    "| VW | WW |\n",
    "\n",
    "| VV | WV |\n",
    "\n",
    "2. Параметры **m**, **n** определяют координаты в рамках \"угла\"."
   ]
  },
  {
   "cell_type": "markdown",
   "id": "192e0bbd",
   "metadata": {},
   "source": [
    "Встраиваем эту субматрицу размера N/2xN/2 в левый нижний угол итоговой матрицы размера NxN."
   ]
  },
  {
   "cell_type": "code",
   "execution_count": 12,
   "id": "8724c3c7",
   "metadata": {},
   "outputs": [
    {
     "name": "stdout",
     "output_type": "stream",
     "text": [
      "[[ 0.  0.  0.  0.  0.  0.  0.  0.]\n",
      " [ 0.  0.  0.  0.  0.  0.  0.  0.]\n",
      " [ 0.  0.  0. -0.  0.  0.  0.  0.]\n",
      " [ 0.  0. -0.  0.  0.  0.  0.  0.]\n",
      " [ 0.  0.  0.  0.  0.  0.  0.  0.]\n",
      " [ 0.  0.  0.  1.  0.  0.  0.  0.]\n",
      " [ 0.  0.  0.  0.  0.  0.  0.  0.]\n",
      " [ 0.  0.  0.  0.  0.  0.  0.  0.]]\n"
     ]
    }
   ],
   "source": [
    "pixel_mtrx = tr[0].copy()\n",
    "pixel_mtrx[N//2:,:N//2] = tr[1]\n",
    "print(np.round(pixel_mtrx,1))"
   ]
  },
  {
   "cell_type": "markdown",
   "id": "4caa6fd8",
   "metadata": {},
   "source": [
    "# Преобразование с помощью PyWavelets."
   ]
  },
  {
   "cell_type": "markdown",
   "id": "79a79834",
   "metadata": {},
   "source": [
    "Повторно выполним аналогичное преобразование с помощью библиотечных функций."
   ]
  },
  {
   "cell_type": "code",
   "execution_count": 13,
   "id": "c926f7a1",
   "metadata": {},
   "outputs": [],
   "source": [
    "import pywt\n",
    "from Functions.combine_matrices import combine_matrices"
   ]
  },
  {
   "cell_type": "markdown",
   "id": "ebfe7807",
   "metadata": {},
   "source": [
    "## Преобразование 1-го уровня"
   ]
  },
  {
   "cell_type": "code",
   "execution_count": 14,
   "id": "ec731bfe",
   "metadata": {},
   "outputs": [
    {
     "name": "stdout",
     "output_type": "stream",
     "text": [
      "[[-0.  -0.  -0.  -0.  -0.  -0.  -0.  -0. ]\n",
      " [-0.  -0.  -0.  -0.  -0.  -0.  -0.  -0. ]\n",
      " [-0.  -0.  -0.  -0.  -0.  -0.  -0.  -0. ]\n",
      " [-0.  -0.  -0.  -0.  -0.  -0.  -0.  -0. ]\n",
      " [ 0.   0.   0.   0.   0.   0.   0.   0. ]\n",
      " [ 0.   0.   0.   0.   0.   0.   0.   0. ]\n",
      " [ 0.   0.  -0.5  0.5  0.   0.   0.   0. ]\n",
      " [ 0.   0.   0.5 -0.5  0.   0.   0.   0. ]]\n"
     ]
    }
   ],
   "source": [
    "wavelet = 'haar'\n",
    "pywt_tr = np.empty(K, dtype='object')\n",
    "\n",
    "cA, (cH, cV, cD) = pywt.dwt2(tensor_mtrx, wavelet)\n",
    "pywt_tr[0] = combine_matrices(cA, -cH, cV, -cD)\n",
    "\n",
    "print(np.round(pywt_tr[0],1))"
   ]
  },
  {
   "cell_type": "markdown",
   "id": "a7d0db50",
   "metadata": {},
   "source": [
    "## Преобразование 2-го уровня"
   ]
  },
  {
   "cell_type": "code",
   "execution_count": 15,
   "id": "c7d58de3",
   "metadata": {},
   "outputs": [
    {
     "name": "stdout",
     "output_type": "stream",
     "text": [
      "[[-0. -0. -0. -0.]\n",
      " [-0. -0. -0.  1.]\n",
      " [ 0.  0.  0.  0.]\n",
      " [ 0.  0.  0.  0.]]\n"
     ]
    }
   ],
   "source": [
    "cA, (cH, cV, cD) = pywt.dwt2(pywt_tr[0][N//2:,:N//2], wavelet)\n",
    "pywt_tr[1] = combine_matrices(cA, -cH, cV, -cD)\n",
    "print(np.round(pywt_tr[1],1))"
   ]
  },
  {
   "cell_type": "markdown",
   "id": "f9304b2e",
   "metadata": {},
   "source": [
    "Теперь в составе полной матрицы NxN"
   ]
  },
  {
   "cell_type": "code",
   "execution_count": 16,
   "id": "8eed8255",
   "metadata": {},
   "outputs": [
    {
     "name": "stdout",
     "output_type": "stream",
     "text": [
      "[[-0. -0. -0. -0. -0. -0. -0. -0.]\n",
      " [-0. -0. -0. -0. -0. -0. -0. -0.]\n",
      " [-0. -0. -0. -0. -0. -0. -0. -0.]\n",
      " [-0. -0. -0. -0. -0. -0. -0. -0.]\n",
      " [-0. -0. -0. -0.  0.  0.  0.  0.]\n",
      " [-0. -0. -0.  1.  0.  0.  0.  0.]\n",
      " [ 0.  0.  0.  0.  0.  0.  0.  0.]\n",
      " [ 0.  0.  0.  0.  0.  0.  0.  0.]]\n"
     ]
    }
   ],
   "source": [
    "pywt_pixel_mtrx = pywt_tr[0].copy()\n",
    "pywt_pixel_mtrx[N//2:,:N//2] = pywt_tr[1]\n",
    "print(np.round(pywt_pixel_mtrx,1))"
   ]
  },
  {
   "cell_type": "markdown",
   "id": "11e3c379",
   "metadata": {},
   "source": [
    "# Обратное преобразование"
   ]
  },
  {
   "cell_type": "code",
   "execution_count": 17,
   "id": "bc3ff609",
   "metadata": {},
   "outputs": [],
   "source": [
    "from Functions.split_matrices import split_matrices\n",
    "pywt_inv_tr = np.empty(K, dtype='object')"
   ]
  },
  {
   "cell_type": "markdown",
   "id": "5ca5fd82",
   "metadata": {},
   "source": [
    "## Выполняем обратное преобразование 1й раз"
   ]
  },
  {
   "cell_type": "code",
   "execution_count": 18,
   "id": "9340decb",
   "metadata": {},
   "outputs": [
    {
     "name": "stdout",
     "output_type": "stream",
     "text": [
      "[[-0.  -0.  -0.  -0.  -0.  -0.  -0.  -0. ]\n",
      " [-0.  -0.  -0.  -0.  -0.  -0.  -0.  -0. ]\n",
      " [-0.  -0.  -0.  -0.  -0.  -0.  -0.  -0. ]\n",
      " [-0.  -0.  -0.  -0.  -0.  -0.  -0.  -0. ]\n",
      " [ 0.   0.   0.   0.   0.   0.   0.   0. ]\n",
      " [ 0.   0.   0.   0.   0.   0.   0.   0. ]\n",
      " [ 0.   0.  -0.5  0.5  0.   0.   0.   0. ]\n",
      " [ 0.   0.   0.5 -0.5  0.   0.   0.   0. ]]\n"
     ]
    }
   ],
   "source": [
    "cA, (cH, cV, cD) = split_matrices(pywt_pixel_mtrx[N//2:,:N//2])\n",
    "pywt_inv_tr[1] = pywt_pixel_mtrx.copy()\n",
    "pywt_inv_tr[1][N//2:,:N//2] = pywt.idwt2((cA, (-cH, cV, -cD)), wavelet)\n",
    "print(np.round(pywt_inv_tr[1],1))"
   ]
  },
  {
   "cell_type": "markdown",
   "id": "8b61e2dc",
   "metadata": {},
   "source": [
    "## Выполняем обратное преобразование 2й раз\n",
    "В результате получаем исходный тензор"
   ]
  },
  {
   "cell_type": "code",
   "execution_count": 19,
   "id": "0f1a32c2",
   "metadata": {},
   "outputs": [
    {
     "name": "stdout",
     "output_type": "stream",
     "text": [
      "[[ 0.    0.    0.    0.    0.    0.    0.    0.  ]\n",
      " [ 0.    0.    0.    0.    0.    0.    0.    0.  ]\n",
      " [ 0.    0.    0.    0.    0.    0.    0.    0.  ]\n",
      " [ 0.    0.    0.    0.    0.    0.    0.    0.  ]\n",
      " [ 0.    0.    0.    0.   -0.25 -0.25  0.25  0.25]\n",
      " [ 0.    0.    0.    0.   -0.25 -0.25  0.25  0.25]\n",
      " [ 0.    0.    0.    0.    0.25  0.25 -0.25 -0.25]\n",
      " [ 0.    0.    0.    0.    0.25  0.25 -0.25 -0.25]]\n"
     ]
    }
   ],
   "source": [
    "cA, (cH, cV, cD) = split_matrices(pywt_inv_tr[1])\n",
    "pywt_inv_tr[0] = pywt.idwt2((cA, (-cH, cV, -cD)), wavelet)\n",
    "print(np.round(pywt_inv_tr[0],2))"
   ]
  }
 ],
 "metadata": {
  "kernelspec": {
   "display_name": "Python 3",
   "language": "python",
   "name": "python3"
  },
  "language_info": {
   "codemirror_mode": {
    "name": "ipython",
    "version": 3
   },
   "file_extension": ".py",
   "mimetype": "text/x-python",
   "name": "python",
   "nbconvert_exporter": "python",
   "pygments_lexer": "ipython3",
   "version": "3.11.0"
  }
 },
 "nbformat": 4,
 "nbformat_minor": 5
}
